{
 "cells": [
  {
   "cell_type": "code",
   "execution_count": 1,
   "id": "c1cfea73",
   "metadata": {},
   "outputs": [
    {
     "name": "stdout",
     "output_type": "stream",
     "text": [
      "/home/sbml/personal/seyoung/dev/content\n",
      "/home/sbml/personal/seyoung/dev/content/radar\n"
     ]
    }
   ],
   "source": [
    "#Before executing the RADAR pipeline, it needs to declare /include/include.ipynb.\n",
    "import warnings \n",
    "warnings.filterwarnings( \"ignore\" )\n",
    "import os; import os.path as path\n",
    "path_root = path.abspath( path.join( os.getcwd(), \"..\", \"..\") )\n",
    "path_local = path_root +  \"/radar\"; path_include = path_local + \"/include\"\n",
    "file_include = path_include +  \"/include.ipynb\"\n",
    "%run $file_include\n",
    "print ( path_root)\n",
    "print ( path_local)"
   ]
  },
  {
   "cell_type": "code",
   "execution_count": 2,
   "id": "4ce1ea49",
   "metadata": {
    "scrolled": true
   },
   "outputs": [
    {
     "name": "stdout",
     "output_type": "stream",
     "text": [
      "Pipeline initiating...\n",
      "/home/sbml/personal/seyoung/dev/content/radar/pipeline/visual/escherichia/output/GCF_002002125.1_ASM200212v1_genomic.png\n",
      "GCF_002002125.1_ASM200212v1_genomic 4857\n",
      "284 61\n",
      "0.8\n",
      "50\n",
      "/home/sbml/personal/seyoung/dev/content/radar/pipeline/visual/escherichia/output/GCF_002247905.2_ASM224790v2_genomic.png\n",
      "GCF_002247905.2_ASM224790v2_genomic 4749\n",
      "283 73\n",
      "0.8\n",
      "62\n"
     ]
    }
   ],
   "source": [
    "#RADAR pipeline excution \n",
    "os.chdir( path_local )\n",
    "SPECIES = \"escherichia\" #Specify the SPECIES name (e.g. escherichia)\n",
    "DB = \"BOARDS\" #Specify Database name( e.g. 1. BARDS, 2.USER_DB) \n",
    "cutoff = 0.8 # cutoff setting\n",
    "\n",
    "radar = amr( SPECIES, DB )\n",
    "# radar.method.prodigal( SPECIES )\n",
    "# radar.method.blast_method.udb_making( SPECIES, DB )\n",
    "# radar.method.blast_method.blastp_run( SPECIES, DB )\n",
    "# radar.method.blast_parse_method.blastp_parse( SPECIES, cutoff )\n",
    "# radar.method.blast_parse_method.blastp_merge( SPECIES, cutoff )\n",
    "# radar.method.blast_parse_method.snp_out( SPECIES, cutoff )\n",
    "# radar.method.genome_visual.make_config_files( SPECIES )\n",
    "# radar.method.genome_visual.run_circos( SPECIES )\n",
    "# radar.method.cluster_parse_method.hit_cluster( SPECIES, cutoff )\n",
    "radar.method.wgs_report.report_out( SPECIES, cutoff )"
   ]
  },
  {
   "cell_type": "code",
   "execution_count": null,
   "id": "c18bcd15",
   "metadata": {},
   "outputs": [],
   "source": []
  }
 ],
 "metadata": {
  "kernelspec": {
   "display_name": "tf_env",
   "language": "python",
   "name": "tf_env"
  },
  "language_info": {
   "codemirror_mode": {
    "name": "ipython",
    "version": 3
   },
   "file_extension": ".py",
   "mimetype": "text/x-python",
   "name": "python",
   "nbconvert_exporter": "python",
   "pygments_lexer": "ipython3",
   "version": "3.8.16"
  }
 },
 "nbformat": 4,
 "nbformat_minor": 5
}
